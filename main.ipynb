{
 "cells": [
  {
   "cell_type": "code",
   "execution_count": 1,
   "metadata": {},
   "outputs": [],
   "source": [
    "from Scripts.model import *"
   ]
  },
  {
   "cell_type": "code",
   "execution_count": 2,
   "metadata": {},
   "outputs": [],
   "source": [
    "x = torch.ones((1, 1, 128, 128))"
   ]
  },
  {
   "cell_type": "code",
   "execution_count": 3,
   "metadata": {},
   "outputs": [],
   "source": [
    "net = UNet(1)"
   ]
  },
  {
   "cell_type": "code",
   "execution_count": 5,
   "metadata": {},
   "outputs": [],
   "source": [
    "y = net(x)"
   ]
  },
  {
   "cell_type": "code",
   "execution_count": 7,
   "metadata": {},
   "outputs": [
    {
     "data": {
      "text/plain": [
       "torch.Size([1, 1, 128, 128])"
      ]
     },
     "execution_count": 7,
     "metadata": {},
     "output_type": "execute_result"
    }
   ],
   "source": [
    "y.shape"
   ]
  },
  {
   "cell_type": "code",
   "execution_count": 3,
   "metadata": {},
   "outputs": [],
   "source": [
    "enc = EncoderBlock(1, 2, padding=1)\n",
    "y = enc(x)"
   ]
  },
  {
   "cell_type": "code",
   "execution_count": 4,
   "metadata": {},
   "outputs": [
    {
     "data": {
      "text/plain": [
       "tensor([[[[4.0122, 4.4350, 4.4350,  ..., 4.4350, 4.4350, 3.5100],\n",
       "          [2.1633, 0.0288, 0.0288,  ..., 0.0288, 0.0288, 0.0330],\n",
       "          [2.1633, 0.0288, 0.0288,  ..., 0.0288, 0.0288, 0.0330],\n",
       "          ...,\n",
       "          [2.1633, 0.0288, 0.0288,  ..., 0.0288, 0.0288, 0.0330],\n",
       "          [2.1633, 0.0288, 0.0288,  ..., 0.0288, 0.0288, 0.0330],\n",
       "          [1.3420, 0.0790, 0.0790,  ..., 0.0790, 0.0790, 0.0532]],\n",
       "\n",
       "         [[2.7642, 5.2036, 5.2036,  ..., 5.2036, 5.2036, 5.5992],\n",
       "          [0.7336, 0.0086, 0.0086,  ..., 0.0086, 0.0086, 0.1252],\n",
       "          [0.7336, 0.0086, 0.0086,  ..., 0.0086, 0.0086, 0.1252],\n",
       "          ...,\n",
       "          [0.7336, 0.0086, 0.0086,  ..., 0.0086, 0.0086, 0.1252],\n",
       "          [0.7336, 0.0086, 0.0086,  ..., 0.0086, 0.0086, 0.1252],\n",
       "          [1.4177, 0.1045, 0.1045,  ..., 0.1045, 0.1045, 0.1564]]]],\n",
       "       grad_fn=<MaxPool2DWithIndicesBackward0>)"
      ]
     },
     "execution_count": 4,
     "metadata": {},
     "output_type": "execute_result"
    }
   ],
   "source": [
    "y"
   ]
  },
  {
   "cell_type": "code",
   "execution_count": 5,
   "metadata": {},
   "outputs": [
    {
     "data": {
      "text/plain": [
       "torch.Size([1, 2, 32, 32])"
      ]
     },
     "execution_count": 5,
     "metadata": {},
     "output_type": "execute_result"
    }
   ],
   "source": [
    "y.shape"
   ]
  },
  {
   "cell_type": "code",
   "execution_count": 6,
   "metadata": {},
   "outputs": [],
   "source": [
    "dec = DecoderBlock(2, 1, transpose_stride=2, out_padding=1)\n",
    "\n",
    "x = dec(y, y)"
   ]
  },
  {
   "cell_type": "code",
   "execution_count": 7,
   "metadata": {},
   "outputs": [
    {
     "data": {
      "text/plain": [
       "tensor([[[[ 3.0452, -3.1293,  6.1165,  ..., -6.9095,  1.1591, -3.6795],\n",
       "          [-2.9322, -4.5297, -3.2377,  ..., -0.4525,  1.5788, -0.2614],\n",
       "          [ 0.0979, -1.1171, -1.5505,  ...,  0.2066, -1.4356,  2.0224],\n",
       "          ...,\n",
       "          [-0.1107,  0.0540,  0.8798,  ...,  0.1280,  0.1068,  0.0890],\n",
       "          [ 0.0979, -0.5197, -0.4706,  ...,  0.0992,  0.0919,  0.1047],\n",
       "          [ 0.0979,  0.0979,  0.0979,  ...,  0.0979,  0.0979,  0.0979]]]],\n",
       "       grad_fn=<NativeBatchNormBackward0>)"
      ]
     },
     "execution_count": 7,
     "metadata": {},
     "output_type": "execute_result"
    }
   ],
   "source": [
    "x"
   ]
  },
  {
   "cell_type": "code",
   "execution_count": 8,
   "metadata": {},
   "outputs": [
    {
     "data": {
      "text/plain": [
       "torch.Size([1, 1, 66, 66])"
      ]
     },
     "execution_count": 8,
     "metadata": {},
     "output_type": "execute_result"
    }
   ],
   "source": [
    "x.shape"
   ]
  },
  {
   "cell_type": "code",
   "execution_count": null,
   "metadata": {},
   "outputs": [],
   "source": []
  }
 ],
 "metadata": {
  "kernelspec": {
   "display_name": "diffusion",
   "language": "python",
   "name": "python3"
  },
  "language_info": {
   "codemirror_mode": {
    "name": "ipython",
    "version": 3
   },
   "file_extension": ".py",
   "mimetype": "text/x-python",
   "name": "python",
   "nbconvert_exporter": "python",
   "pygments_lexer": "ipython3",
   "version": "3.12.3"
  }
 },
 "nbformat": 4,
 "nbformat_minor": 2
}
